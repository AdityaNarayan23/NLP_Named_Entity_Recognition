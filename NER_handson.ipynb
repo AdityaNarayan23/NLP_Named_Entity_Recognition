{
 "cells": [
  {
   "cell_type": "code",
   "execution_count": null,
   "metadata": {},
   "outputs": [],
   "source": [
    "#pip install -U spacy\n",
    "#pip install --user en_core_web_sm-3.0.0.tar.gz"
   ]
  },
  {
   "cell_type": "code",
   "execution_count": 1,
   "metadata": {},
   "outputs": [
    {
     "name": "stdout",
     "output_type": "stream",
     "text": [
      "61\n"
     ]
    }
   ],
   "source": [
    "#with open(\"sample.txt\", \"r\") as fh:\n",
    "#with open(\"hdfs-audit.log\", \"r\") as fh:\n",
    "with open(\"sample1.txt\", \"r\") as fh:\n",
    "    fstring = fh.readlines()\n",
    "print(len(fstring))"
   ]
  },
  {
   "cell_type": "code",
   "execution_count": 3,
   "metadata": {},
   "outputs": [
    {
     "name": "stdout",
     "output_type": "stream",
     "text": [
      "61\n",
      "[('2021-04-21 00:00:00,034 INFO 10.45.149.37.audit: allowed=true\\tugi=hdfs (auth:SIMPLE)\\tip=/10.45.149.67\\tcmd=getfileinfo\\tsrc=/user\\tdst=null\\tperm=null\\tproto=rpc\\n', {'entities': [(29, 41, 'IP'), (89, 101, 'IP')]}), ('2021-04-21 00:00:00,036 INFO FSNamesystem.audit: allowed=true\\tugi=hdfs (auth:SIMPLE)\\tip=/10.45.149.67\\tcmd=listStatus\\tsrc=/user\\tdst=null\\tperm=null\\tproto=rpc\\n', {'entities': [(89, 101, 'IP')]}), ('2021-04-21 00:00:00,038 INFO FSNamesystem.audit: allowed=true\\tugi=hdfs (auth:SIMPLE)\\tip=/10.45.149.67\\tcmd=getfileinfo\\tsrc=/user/ambari-qa/.Trash\\tdst=null\\tperm=null\\tproto=rpc\\n', {'entities': [(89, 101, 'IP')]}), ('2021-04-21 00:00:00,040 INFO FSNamesystem.audit: allowed=true\\tugi=hdfs (auth:SIMPLE)\\tip=/10.45.149.67\\tcmd=getfileinfo\\tsrc=/user/hbase/.Trash\\tdst=null\\tperm=null\\tproto=rpc\\n', {'entities': [(89, 101, 'IP')]}), ('2021-04-21 00:00:00,042 INFO FSNamesystem.audit: allowed=true\\tugi=hdfs (auth:SIMPLE)\\tip=/10.45.149.67\\tcmd=getfileinfo\\tsrc=/user/hdfs/.Trash\\tdst=null\\tperm=null\\tproto=rpc\\n', {'entities': [(89, 101, 'IP')]}), ('2021-04-21 00:00:00,044 INFO FSNamesystem.audit: allowed=true\\tugi=hdfs (auth:SIMPLE)\\tip=/10.45.149.67\\tcmd=getfileinfo\\tsrc=/user/hive/.Trash\\tdst=null\\tperm=null\\tproto=rpc\\n', {'entities': [(89, 101, 'IP')]}), ('2021-04-21 00:00:00,045 INFO FSNamesystem.audit: allowed=true\\tugi=hdfs (auth:SIMPLE)\\tip=/10.45.149.67\\tcmd=getfileinfo\\tsrc=/user/spark/.Trash\\tdst=null\\tperm=null\\tproto=rpc\\n', {'entities': [(89, 101, 'IP')]}), ('2021-04-21 00:00:00,047 INFO FSNamesystem.audit: allowed=true\\tugi=hdfs (auth:SIMPLE)\\tip=/10.45.149.67\\tcmd=getfileinfo\\tsrc=/user/yarn-ats/.Trash\\tdst=null\\tperm=null\\tproto=rpc\\n', {'entities': [(89, 101, 'IP')]}), ('2021-04-21 00:00:00,048 INFO FSNamesystem.audit: allowed=true\\tugi=hdfs (auth:SIMPLE)\\tip=/10.45.149.67\\tcmd=listEncryptionZones\\tsrc=null\\tdst=null\\tperm=null\\tproto=rpc\\n', {'entities': [(89, 101, 'IP')]}), ('2021-04-21 00:00:00,050 INFO FSNamesystem.audit: allowed=true\\tugi=hdfs (auth:SIMPLE)\\tip=/10.45.149.67\\tcmd=listStatus\\tsrc=/user/hdfs/.Trash\\tdst=null\\tperm=null\\tproto=rpc\\n', {'entities': [(89, 101, 'IP')]}), ('2021-04-21 00:00:18,501 INFO FSNamesystem.audit: allowed=true\\tugi=spark (auth:SIMPLE)\\tip=/10.45.149.49\\tcmd=rename (options=[TO_TRASH])\\tsrc=/data/seca/enriched/receivedtime/tomcat5/_spark_metadata/.5c5ded58-3303-43dc-912a-f001b6b6008c.tmp\\tdst=/data/seca/enriched/receivedtime/tomcat5/_spark_metadata/23290\\tperm=spark:hdfs:rw-r--r--\\tproto=rpc\\tcallerContext=SPARK_APPMASTER_application_1615806028014_0197_1\\n', {'entities': [(90, 102, 'IP')]}), ('2021-04-21 00:00:18,504 INFO FSNamesystem.audit: allowed=true\\tugi=spark (auth:SIMPLE)\\tip=/10.45.149.49\\tcmd=getfileinfo\\tsrc=/data/seca/enriched/receivedtime/tomcat5/_spark_metadata/..5c5ded58-3303-43dc-912a-f001b6b6008c.tmp.crc\\tdst=null\\tperm=null\\tproto=rpc\\tcallerContext=SPARK_APPMASTER_application_1615806028014_0197_1\\n', {'entities': [(90, 102, 'IP')]}), ('2021-04-21 00:00:18,505 INFO FSNamesystem.audit: allowed=true\\tugi=spark (auth:SIMPLE)\\tip=/10.45.149.49\\tcmd=delete\\tsrc=/data/seca/enriched/receivedtime/tomcat5/_spark_metadata/.5c5ded58-3303-43dc-912a-f001b6b6008c.tmp\\tdst=null\\tperm=null\\tproto=rpc\\tcallerContext=SPARK_APPMASTER_application_1615806028014_0197_1\\n', {'entities': [(90, 102, 'IP')]}), ('2021-04-21 00:00:18,506 INFO FSNamesystem.audit: allowed=true\\tugi=spark (auth:SIMPLE)\\tip=/10.45.149.49\\tcmd=listStatus\\tsrc=/data/seca/enriched/receivedtime/tomcat5/_spark_metadata\\tdst=null\\tperm=null\\tproto=rpc\\tcallerContext=SPARK_APPMASTER_application_1615806028014_0197_1\\n', {'entities': [(90, 102, 'IP')]}), ('2021-04-21 00:00:18,510 INFO FSNamesystem.audit: allowed=true\\tugi=spark (auth:SIMPLE)\\tip=/10.45.149.49\\tcmd=getfileinfo\\tsrc=/tmp/data/seca/enriched/receivedtime/tomcat5/commits/23290\\tdst=null\\tperm=null\\tproto=rpc\\tcallerContext=SPARK_APPMASTER_application_1615806028014_0197_1\\n', {'entities': [(90, 102, 'IP')]}), ('2021-04-21 00:00:18,511 INFO FSNamesystem.audit: allowed=true\\tugi=spark (auth:SIMPLE)\\tip=/10.45.149.49\\tcmd=create\\tsrc=/tmp/data/seca/enriched/receivedtime/tomcat5/commits/.bebbcece-d0d2-4111-aa8a-c150f7ac6461.tmp\\tdst=null\\tperm=spark:hdfs:rw-r--r--\\tproto=rpc\\tcallerContext=SPARK_APPMASTER_application_1615806028014_0197_1\\n', {'entities': [(90, 102, 'IP')]}), ('2021-04-21 00:00:18,543 INFO FSNamesystem.audit: allowed=true\\tugi=spark (auth:SIMPLE)\\tip=/10.45.149.49\\tcmd=rename (options=[TO_TRASH])\\tsrc=/tmp/data/seca/enriched/receivedtime/tomcat5/commits/.bebbcece-d0d2-4111-aa8a-c150f7ac6461.tmp\\tdst=/tmp/data/seca/enriched/receivedtime/tomcat5/commits/23290\\tperm=spark:hdfs:rw-r--r--\\tproto=rpc\\tcallerContext=SPARK_APPMASTER_application_1615806028014_0197_1\\n', {'entities': [(90, 102, 'IP')]}), ('2021-04-21 00:00:18,546 INFO FSNamesystem.audit: allowed=true\\tugi=spark (auth:SIMPLE)\\tip=/10.45.149.49\\tcmd=getfileinfo\\tsrc=/tmp/data/seca/enriched/receivedtime/tomcat5/commits/..bebbcece-d0d2-4111-aa8a-c150f7ac6461.tmp.crc\\tdst=null\\tperm=null\\tproto=rpc\\tcallerContext=SPARK_APPMASTER_application_1615806028014_0197_1\\n', {'entities': [(90, 102, 'IP')]}), ('2021-04-21 00:00:18,547 INFO FSNamesystem.audit: allowed=true\\tugi=spark (auth:SIMPLE)\\tip=/10.45.149.49\\tcmd=delete\\tsrc=/tmp/data/seca/enriched/receivedtime/tomcat5/commits/.bebbcece-d0d2-4111-aa8a-c150f7ac6461.tmp\\tdst=null\\tperm=null\\tproto=rpc\\tcallerContext=SPARK_APPMASTER_application_1615806028014_0197_1\\n', {'entities': [(90, 102, 'IP')]}), ('2021-04-21 00:00:19,091 INFO FSNamesystem.audit: allowed=true\\tugi=spark (auth:SIMPLE)\\tip=/10.45.149.49\\tcmd=getfileinfo\\tsrc=/tmp/data/seca/enriched/receivedtime/tomcat5/offsets/23291\\tdst=null\\tperm=null\\tproto=rpc\\tcallerContext=SPARK_APPMASTER_application_1615806028014_0197_1\\n', {'entities': [(90, 102, 'IP')]}), ('2021-04-21 00:00:19,092 INFO FSNamesystem.audit: allowed=true\\tugi=spark (auth:SIMPLE)\\tip=/10.45.149.49\\tcmd=create\\tsrc=/tmp/data/seca/enriched/receivedtime/tomcat5/offsets/.e7651913-9ef3-4b63-9d70-de84632de344.tmp\\tdst=null\\tperm=spark:hdfs:rw-r--r--\\tproto=rpc\\tcallerContext=SPARK_APPMASTER_application_1615806028014_0197_1\\n', {'entities': [(90, 102, 'IP')]}), ('2021-04-21 00:00:19,122 INFO FSNamesystem.audit: allowed=true\\tugi=spark (auth:SIMPLE)\\tip=/10.45.149.49\\tcmd=rename (options=[TO_TRASH])\\tsrc=/tmp/data/seca/enriched/receivedtime/tomcat5/offsets/.e7651913-9ef3-4b63-9d70-de84632de344.tmp\\tdst=/tmp/data/seca/enriched/receivedtime/tomcat5/offsets/23291\\tperm=spark:hdfs:rw-r--r--\\tproto=rpc\\tcallerContext=SPARK_APPMASTER_application_1615806028014_0197_1\\n', {'entities': [(90, 102, 'IP')]}), ('2021-04-21 00:00:19,124 INFO FSNamesystem.audit: allowed=true\\tugi=spark (auth:SIMPLE)\\tip=/10.45.149.49\\tcmd=getfileinfo\\tsrc=/tmp/data/seca/enriched/receivedtime/tomcat5/offsets/..e7651913-9ef3-4b63-9d70-de84632de344.tmp.crc\\tdst=null\\tperm=null\\tproto=rpc\\tcallerContext=SPARK_APPMASTER_application_1615806028014_0197_1\\n', {'entities': [(90, 102, 'IP')]}), ('2021-04-21 00:00:19,125 INFO FSNamesystem.audit: allowed=true\\tugi=spark (auth:SIMPLE)\\tip=/10.45.149.49\\tcmd=delete\\tsrc=/tmp/data/seca/enriched/receivedtime/tomcat5/offsets/.e7651913-9ef3-4b63-9d70-de84632de344.tmp\\tdst=null\\tperm=null\\tproto=rpc\\tcallerContext=SPARK_APPMASTER_application_1615806028014_0197_1\\n', {'entities': [(90, 102, 'IP')]}), ('2021-04-21 00:00:19,126 INFO FSNamesystem.audit: allowed=true\\tugi=spark (auth:SIMPLE)\\tip=/10.45.149.49\\tcmd=getfileinfo\\tsrc=/tmp/data/seca/enriched/receivedtime/tomcat5/offsets/23290\\tdst=null\\tperm=null\\tproto=rpc\\tcallerContext=SPARK_APPMASTER_application_1615806028014_0197_1\\n', {'entities': [(90, 102, 'IP')]}), ('2021-04-21 00:00:19,126 INFO FSNamesystem.audit: allowed=true\\tugi=spark (auth:SIMPLE)\\tip=/10.45.149.49\\tcmd=open\\tsrc=/tmp/data/seca/enriched/receivedtime/tomcat5/offsets/23290\\tdst=null\\tperm=null\\tproto=rpc\\tcallerContext=SPARK_APPMASTER_application_1615806028014_0197_1\\n', {'entities': [(90, 102, 'IP')]}), ('2021-04-21 00:00:19,131 INFO FSNamesystem.audit: allowed=true\\tugi=spark (auth:SIMPLE)\\tip=/10.45.149.49\\tcmd=listStatus\\tsrc=/tmp/data/seca/enriched/receivedtime/tomcat5/offsets\\tdst=null\\tperm=null\\tproto=rpc\\tcallerContext=SPARK_APPMASTER_application_1615806028014_0197_1\\n', {'entities': [(90, 102, 'IP')]}), ('2021-04-21 00:00:19,133 INFO FSNamesystem.audit: allowed=true\\tugi=spark (auth:SIMPLE)\\tip=/10.45.149.49\\tcmd=delete\\tsrc=/tmp/data/seca/enriched/receivedtime/tomcat5/offsets/23190\\tdst=null\\tperm=null\\tproto=rpc\\tcallerContext=SPARK_APPMASTER_application_1615806028014_0197_1\\n', {'entities': [(90, 102, 'IP')]}), ('2021-04-21 00:00:19,136 INFO FSNamesystem.audit: allowed=true\\tugi=spark (auth:SIMPLE)\\tip=/10.45.149.49\\tcmd=listStatus\\tsrc=/tmp/data/seca/enriched/receivedtime/tomcat5/commits\\tdst=null\\tperm=null\\tproto=rpc\\tcallerContext=SPARK_APPMASTER_application_1615806028014_0197_1\\n', {'entities': [(90, 102, 'IP')]}), ('2021-04-21 00:00:19,138 INFO FSNamesystem.audit: allowed=true\\tugi=spark (auth:SIMPLE)\\tip=/10.45.149.49\\tcmd=delete\\tsrc=/tmp/data/seca/enriched/receivedtime/tomcat5/commits/23190\\tdst=null\\tperm=null\\tproto=rpc\\tcallerContext=SPARK_APPMASTER_application_1615806028014_0197_1\\n', {'entities': [(90, 102, 'IP')]}), ('2021-04-21 00:00:19,584 INFO FSNamesystem.audit: allowed=true\\tugi=spark (auth:SIMPLE)\\tip=/10.45.149.49\\tcmd=listStatus\\tsrc=/data/seca/enriched/receivedtime/tomcat5/_spark_metadata\\tdst=null\\tperm=null\\tproto=rpc\\tcallerContext=SPARK_APPMASTER_application_1615806028014_0197_1\\n', {'entities': [(90, 102, 'IP')]}), ('2021-04-21 00:00:19,587 INFO FSNamesystem.audit: allowed=true\\tugi=spark (auth:SIMPLE)\\tip=/10.45.149.49\\tcmd=getfileinfo\\tsrc=/data/seca/enriched/receivedtime/tomcat5/_spark_metadata/23290\\tdst=null\\tperm=null\\tproto=rpc\\tcallerContext=SPARK_APPMASTER_application_1615806028014_0197_1\\n', {'entities': [(90, 102, 'IP')]}), ('2021-04-21 00:00:19,588 INFO FSNamesystem.audit: allowed=true\\tugi=spark (auth:SIMPLE)\\tip=/10.45.149.49\\tcmd=open\\tsrc=/data/seca/enriched/receivedtime/tomcat5/_spark_metadata/23290\\tdst=null\\tperm=null\\tproto=rpc\\tcallerContext=SPARK_APPMASTER_application_1615806028014_0197_1\\n', {'entities': [(90, 102, 'IP')]}), ('2021-04-21 00:00:19,948 INFO FSNamesystem.audit: allowed=true\\tugi=spark (auth:SIMPLE)\\tip=/10.45.149.48\\tcmd=create\\tsrc=/data/seca/enriched/receivedtime/tomcat5/custid=f4e66310-e979-40ee-8c9b-707b53190d17/receivedyear=2021/receiveddayyear=107/receivedhour=12/part-00001-fcc22ad4-66ea-489e-8b11-c1182eebe67b.c000.snappy.parquet\\tdst=null\\tperm=spark:hdfs:rw-r--r--\\tproto=rpc\\tcallerContext=SPARK_TASK_application_1615806028014_0197_1_JId_1382_SId_1382_0_TId_22113_0\\n', {'entities': [(90, 102, 'IP')]}), ('2021-04-21 00:00:19,981 INFO FSNamesystem.audit: allowed=true\\tugi=spark (auth:SIMPLE)\\tip=/10.45.149.49\\tcmd=create\\tsrc=/data/seca/enriched/receivedtime/tomcat5/custid=f4e66310-e979-40ee-8c9b-707b53190d17/receivedyear=2021/receiveddayyear=107/receivedhour=12/part-00000-499af643-c77e-48d9-b8a6-32e7089d3c95.c000.snappy.parquet\\tdst=null\\tperm=spark:hdfs:rw-r--r--\\tproto=rpc\\tcallerContext=SPARK_TASK_application_1615806028014_0197_1_JId_1382_SId_1382_0_TId_22114_0\\n', {'entities': [(90, 102, 'IP')]}), ('2021-04-21 00:00:19,997 INFO FSNamesystem.audit: allowed=true\\tugi=spark (auth:SIMPLE)\\tip=/10.45.149.48\\tcmd=getfileinfo\\tsrc=/data/seca/enriched/receivedtime/tomcat5/custid=f4e66310-e979-40ee-8c9b-707b53190d17/receivedyear=2021/receiveddayyear=107/receivedhour=12/part-00001-fcc22ad4-66ea-489e-8b11-c1182eebe67b.c000.snappy.parquet\\tdst=null\\tperm=null\\tproto=rpc\\tcallerContext=SPARK_TASK_application_1615806028014_0197_1_JId_1382_SId_1382_0_TId_22113_0\\n', {'entities': [(90, 102, 'IP')]}), ('2021-04-21 00:00:19,998 INFO FSNamesystem.audit: allowed=true\\tugi=spark (auth:SIMPLE)\\tip=/10.45.149.48\\tcmd=getfileinfo\\tsrc=/data/seca/enriched/receivedtime/tomcat5/custid=f4e66310-e979-40ee-8c9b-707b53190d17/receivedyear=2021/receiveddayyear=107/receivedhour=12/part-00001-fcc22ad4-66ea-489e-8b11-c1182eebe67b.c000.snappy.parquet\\tdst=null\\tperm=null\\tproto=rpc\\tcallerContext=SPARK_TASK_application_1615806028014_0197_1_JId_1382_SId_1382_0_TId_22113_0\\n', {'entities': [(90, 102, 'IP')]}), ('2021-04-21 00:00:20,032 INFO FSNamesystem.audit: allowed=true\\tugi=spark (auth:SIMPLE)\\tip=/10.45.149.49\\tcmd=getfileinfo\\tsrc=/data/seca/enriched/receivedtime/tomcat5/custid=f4e66310-e979-40ee-8c9b-707b53190d17/receivedyear=2021/receiveddayyear=107/receivedhour=12/part-00000-499af643-c77e-48d9-b8a6-32e7089d3c95.c000.snappy.parquet\\tdst=null\\tperm=null\\tproto=rpc\\tcallerContext=SPARK_TASK_application_1615806028014_0197_1_JId_1382_SId_1382_0_TId_22114_0\\n', {'entities': [(90, 102, 'IP')]}), ('2021-04-21 00:00:20,033 INFO FSNamesystem.audit: allowed=true\\tugi=spark (auth:SIMPLE)\\tip=/10.45.149.49\\tcmd=getfileinfo\\tsrc=/data/seca/enriched/receivedtime/tomcat5/custid=f4e66310-e979-40ee-8c9b-707b53190d17/receivedyear=2021/receiveddayyear=107/receivedhour=12/part-00000-499af643-c77e-48d9-b8a6-32e7089d3c95.c000.snappy.parquet\\tdst=null\\tperm=null\\tproto=rpc\\tcallerContext=SPARK_TASK_application_1615806028014_0197_1_JId_1382_SId_1382_0_TId_22114_0\\n', {'entities': [(90, 102, 'IP')]}), ('2021-04-21 00:00:20,274 INFO FSNamesystem.audit: allowed=true\\tugi=spark (auth:SIMPLE)\\tip=/10.45.149.49\\tcmd=create\\tsrc=/data/seca/enriched/receivedtime/tomcat5/custid=f4e66310-e979-40ee-8c9b-707b53190d17/receivedyear=2021/receiveddayyear=107/receivedhour=12/part-00002-4e297822-a003-4c22-a547-19ab4a0a872d.c000.snappy.parquet\\tdst=null\\tperm=spark:hdfs:rw-r--r--\\tproto=rpc\\tcallerContext=SPARK_TASK_application_1615806028014_0197_1_JId_1382_SId_1382_0_TId_22116_0\\n', {'entities': [(90, 102, 'IP')]}), ('2021-04-21 00:00:20,334 INFO FSNamesystem.audit: allowed=true\\tugi=spark (auth:SIMPLE)\\tip=/10.45.149.49\\tcmd=getfileinfo\\tsrc=/data/seca/enriched/receivedtime/tomcat5/custid=f4e66310-e979-40ee-8c9b-707b53190d17/receivedyear=2021/receiveddayyear=107/receivedhour=12/part-00002-4e297822-a003-4c22-a547-19ab4a0a872d.c000.snappy.parquet\\tdst=null\\tperm=null\\tproto=rpc\\tcallerContext=SPARK_TASK_application_1615806028014_0197_1_JId_1382_SId_1382_0_TId_22116_0\\n', {'entities': [(90, 102, 'IP')]}), ('2021-04-21 00:00:20,335 INFO FSNamesystem.audit: allowed=true\\tugi=spark (auth:SIMPLE)\\tip=/10.45.149.49\\tcmd=getfileinfo\\tsrc=/data/seca/enriched/receivedtime/tomcat5/custid=f4e66310-e979-40ee-8c9b-707b53190d17/receivedyear=2021/receiveddayyear=107/receivedhour=12/part-00002-4e297822-a003-4c22-a547-19ab4a0a872d.c000.snappy.parquet\\tdst=null\\tperm=null\\tproto=rpc\\tcallerContext=SPARK_TASK_application_1615806028014_0197_1_JId_1382_SId_1382_0_TId_22116_0\\n', {'entities': [(90, 102, 'IP')]}), ('2021-04-21 00:00:20,553 INFO FSNamesystem.audit: allowed=true\\tugi=spark (auth:SIMPLE)\\tip=/10.45.149.49\\tcmd=create\\tsrc=/data/seca/enriched/receivedtime/tomcat5/custid=f4e66310-e979-40ee-8c9b-707b53190d17/receivedyear=2021/receiveddayyear=107/receivedhour=12/part-00003-0262c603-cd71-442c-b966-237551db12ab.c000.snappy.parquet\\tdst=null\\tperm=spark:hdfs:rw-r--r--\\tproto=rpc\\tcallerContext=SPARK_TASK_application_1615806028014_0197_1_JId_1382_SId_1382_0_TId_22117_0\\n', {'entities': [(90, 102, 'IP')]}), ('2021-04-21 00:00:20,605 INFO FSNamesystem.audit: allowed=true\\tugi=spark (auth:SIMPLE)\\tip=/10.45.149.49\\tcmd=getfileinfo\\tsrc=/data/seca/enriched/receivedtime/tomcat5/custid=f4e66310-e979-40ee-8c9b-707b53190d17/receivedyear=2021/receiveddayyear=107/receivedhour=12/part-00003-0262c603-cd71-442c-b966-237551db12ab.c000.snappy.parquet\\tdst=null\\tperm=null\\tproto=rpc\\tcallerContext=SPARK_TASK_application_1615806028014_0197_1_JId_1382_SId_1382_0_TId_22117_0\\n', {'entities': [(90, 102, 'IP')]}), ('2021-04-21 00:00:20,606 INFO FSNamesystem.audit: allowed=true\\tugi=spark (auth:SIMPLE)\\tip=/10.45.149.49\\tcmd=getfileinfo\\tsrc=/data/seca/enriched/receivedtime/tomcat5/custid=f4e66310-e979-40ee-8c9b-707b53190d17/receivedyear=2021/receiveddayyear=107/receivedhour=12/part-00003-0262c603-cd71-442c-b966-237551db12ab.c000.snappy.parquet\\tdst=null\\tperm=null\\tproto=rpc\\tcallerContext=SPARK_TASK_application_1615806028014_0197_1_JId_1382_SId_1382_0_TId_22117_0\\n', {'entities': [(90, 102, 'IP')]}), ('2021-04-21 00:00:20,833 INFO FSNamesystem.audit: allowed=true\\tugi=spark (auth:SIMPLE)\\tip=/10.45.149.49\\tcmd=create\\tsrc=/data/seca/enriched/receivedtime/tomcat5/custid=f4e66310-e979-40ee-8c9b-707b53190d17/receivedyear=2021/receiveddayyear=107/receivedhour=12/part-00011-9454d1f1-710d-4f44-af07-3cda58bf4511.c000.snappy.parquet\\tdst=null\\tperm=spark:hdfs:rw-r--r--\\tproto=rpc\\tcallerContext=SPARK_TASK_application_1615806028014_0197_1_JId_1382_SId_1382_0_TId_22118_0\\n', {'entities': [(90, 102, 'IP')]}), ('2021-04-21 00:00:20,884 INFO FSNamesystem.audit: allowed=true\\tugi=spark (auth:SIMPLE)\\tip=/10.45.149.49\\tcmd=getfileinfo\\tsrc=/data/seca/enriched/receivedtime/tomcat5/custid=f4e66310-e979-40ee-8c9b-707b53190d17/receivedyear=2021/receiveddayyear=107/receivedhour=12/part-00011-9454d1f1-710d-4f44-af07-3cda58bf4511.c000.snappy.parquet\\tdst=null\\tperm=null\\tproto=rpc\\tcallerContext=SPARK_TASK_application_1615806028014_0197_1_JId_1382_SId_1382_0_TId_22118_0\\n', {'entities': [(90, 102, 'IP')]}), ('2021-04-21 00:00:20,885 INFO FSNamesystem.audit: allowed=true\\tugi=spark (auth:SIMPLE)\\tip=/10.45.149.49\\tcmd=getfileinfo\\tsrc=/data/seca/enriched/receivedtime/tomcat5/custid=f4e66310-e979-40ee-8c9b-707b53190d17/receivedyear=2021/receiveddayyear=107/receivedhour=12/part-00011-9454d1f1-710d-4f44-af07-3cda58bf4511.c000.snappy.parquet\\tdst=null\\tperm=null\\tproto=rpc\\tcallerContext=SPARK_TASK_application_1615806028014_0197_1_JId_1382_SId_1382_0_TId_22118_0\\n', {'entities': [(90, 102, 'IP')]}), ('2021-04-21 00:00:21,187 INFO FSNamesystem.audit: allowed=true\\tugi=spark (auth:SIMPLE)\\tip=/10.45.149.48\\tcmd=create\\tsrc=/data/seca/enriched/receivedtime/tomcat5/custid=f4e66310-e979-40ee-8c9b-707b53190d17/receivedyear=2021/receiveddayyear=107/receivedhour=12/part-00004-18ef81fc-cca8-4f2d-9d1a-4efd0ffc10b4.c000.snappy.parquet\\tdst=null\\tperm=spark:hdfs:rw-r--r--\\tproto=rpc\\tcallerContext=SPARK_TASK_application_1615806028014_0197_1_JId_1382_SId_1382_0_TId_22115_0\\n', {'entities': [(90, 102, 'IP')]}), ('2021-04-21 00:00:21,243 INFO FSNamesystem.audit: allowed=true\\tugi=spark (auth:SIMPLE)\\tip=/10.45.149.48\\tcmd=getfileinfo\\tsrc=/data/seca/enriched/receivedtime/tomcat5/custid=f4e66310-e979-40ee-8c9b-707b53190d17/receivedyear=2021/receiveddayyear=107/receivedhour=12/part-00004-18ef81fc-cca8-4f2d-9d1a-4efd0ffc10b4.c000.snappy.parquet\\tdst=null\\tperm=null\\tproto=rpc\\tcallerContext=SPARK_TASK_application_1615806028014_0197_1_JId_1382_SId_1382_0_TId_22115_0\\n', {'entities': [(90, 102, 'IP')]}), ('2021-04-21 00:00:21,244 INFO FSNamesystem.audit: allowed=true\\tugi=spark (auth:SIMPLE)\\tip=/10.45.149.48\\tcmd=getfileinfo\\tsrc=/data/seca/enriched/receivedtime/tomcat5/custid=f4e66310-e979-40ee-8c9b-707b53190d17/receivedyear=2021/receiveddayyear=107/receivedhour=12/part-00004-18ef81fc-cca8-4f2d-9d1a-4efd0ffc10b4.c000.snappy.parquet\\tdst=null\\tperm=null\\tproto=rpc\\tcallerContext=SPARK_TASK_application_1615806028014_0197_1_JId_1382_SId_1382_0_TId_22115_0\\n', {'entities': [(90, 102, 'IP')]}), ('2021-04-21 00:00:46,430 INFO FSNamesystem.audit: allowed=true\\tugi=spark (auth:SIMPLE)\\tip=/10.45.149.48\\tcmd=listStatus\\tsrc=/tmp/data/ueba/inference/checkpoint/state/0/102\\tdst=null\\tperm=null\\tproto=rpc\\tcallerContext=SPARK_TASK_application_1615806028014_0177_1_JId_0_SId_1_0_TId_11_0\\n', {'entities': [(90, 102, 'IP')]}), ('2021-04-21 00:00:46,432 INFO FSNamesystem.audit: allowed=true\\tugi=spark (auth:SIMPLE)\\tip=/10.45.149.48\\tcmd=listStatus\\tsrc=/tmp/data/ueba/inference/checkpoint/state/0/102\\tdst=null\\tperm=null\\tproto=rpc\\tcallerContext=SPARK_TASK_application_1615806028014_0177_1_JId_0_SId_1_0_TId_11_0\\n', {'entities': [(90, 102, 'IP')]}), ('2021-04-21 00:00:46,435 INFO FSNamesystem.audit: allowed=true\\tugi=spark (auth:SIMPLE)\\tip=/10.45.149.48\\tcmd=listStatus\\tsrc=/tmp/data/ueba/inference/checkpoint/state/0/22\\tdst=null\\tperm=null\\tproto=rpc\\tcallerContext=SPARK_TASK_application_1615806028014_0177_1_JId_0_SId_1_0_TId_11_0\\n', {'entities': [(90, 102, 'IP')]}), ('2021-04-21 00:00:46,437 INFO FSNamesystem.audit: allowed=true\\tugi=spark (auth:SIMPLE)\\tip=/10.45.149.48\\tcmd=listStatus\\tsrc=/tmp/data/ueba/inference/checkpoint/state/0/22\\tdst=null\\tperm=null\\tproto=rpc\\tcallerContext=SPARK_TASK_application_1615806028014_0177_1_JId_0_SId_1_0_TId_11_0\\n', {'entities': [(90, 102, 'IP')]}), ('2021-04-21 00:00:46,441 INFO FSNamesystem.audit: allowed=true\\tugi=spark (auth:SIMPLE)\\tip=/10.45.149.48\\tcmd=listStatus\\tsrc=/tmp/data/ueba/inference/checkpoint/state/0/170\\tdst=null\\tperm=null\\tproto=rpc\\tcallerContext=SPARK_TASK_application_1615806028014_0177_1_JId_0_SId_1_0_TId_11_0\\n', {'entities': [(90, 102, 'IP')]}), ('2021-04-21 00:00:46,443 INFO FSNamesystem.audit: allowed=true\\tugi=spark (auth:SIMPLE)\\tip=/10.45.149.48\\tcmd=listStatus\\tsrc=/tmp/data/ueba/inference/checkpoint/state/0/170\\tdst=null\\tperm=null\\tproto=rpc\\tcallerContext=SPARK_TASK_application_1615806028014_0177_1_JId_0_SId_1_0_TId_11_0\\n', {'entities': [(90, 102, 'IP')]}), ('2021-04-21 00:00:46,446 INFO FSNamesystem.audit: allowed=true\\tugi=spark (auth:SIMPLE)\\tip=/10.45.149.48\\tcmd=listStatus\\tsrc=/tmp/data/ueba/inference/checkpoint/state/0/189\\tdst=null\\tperm=null\\tproto=rpc\\tcallerContext=SPARK_TASK_application_1615806028014_0177_1_JId_0_SId_1_0_TId_11_0\\n', {'entities': [(90, 102, 'IP')]}), ('2021-04-21 00:00:46,449 INFO FSNamesystem.audit: allowed=true\\tugi=spark (auth:SIMPLE)\\tip=/10.45.149.48\\tcmd=listStatus\\tsrc=/tmp/data/ueba/inference/checkpoint/state/0/189\\tdst=null\\tperm=null\\tproto=rpc\\tcallerContext=SPARK_TASK_application_1615806028014_0177_1_JId_0_SId_1_0_TId_11_0\\n', {'entities': [(90, 102, 'IP')]}), ('2021-04-21 00:00:46,452 INFO FSNamesystem.audit: allowed=true\\tugi=spark (auth:SIMPLE)\\tip=/10.45.149.48\\tcmd=listStatus\\tsrc=/tmp/data/ueba/inference/checkpoint/state/0/157\\tdst=null\\tperm=null\\tproto=rpc\\tcallerContext=SPARK_TASK_application_1615806028014_0177_1_JId_0_SId_1_0_TId_11_0\\n', {'entities': [(90, 102, 'IP')]}), ('2021-04-21 00:00:46,454 INFO FSNamesystem.audit: allowed=true\\tugi=spark (auth:SIMPLE)\\tip=/10.45.149.48\\tcmd=listStatus\\tsrc=/tmp/data/ueba/inference/checkpoint/state/0/157\\tdst=null\\tperm=null\\tproto=rpc\\tcallerContext=SPARK_TASK_application_1615806028014_0177_1_JId_0_SId_1_0_TId_11_0', {'entities': [(90, 102, 'IP')]})]\n"
     ]
    }
   ],
   "source": [
    "import re\n",
    "\n",
    "file_lst=[]\n",
    "with open(\"sample1.txt\",\"r\") as fh:\n",
    "    for line in fh:\n",
    "        res = re.compile(r'(\\d{1,3}\\.\\d{1,3}\\.\\d{1,3}\\.\\d{1,3})')\n",
    "        ent_tup=()\n",
    "        ent_lst=[]\n",
    "        file_tup=[]\n",
    "        ent_dict={\"entities\":[]}\n",
    "        for m in res.finditer(line):\n",
    "            ent_tup = (m.start(),m.end(),\"IP\")\n",
    "            ent_lst.append(ent_tup)\n",
    "        ent_dict[\"entities\"] = ent_lst\n",
    "        file_tup = (line,ent_dict)\n",
    "        file_lst.append(file_tup)        \n",
    "        #print(file_tup)\n",
    "print(len(file_lst))\n",
    "print(file_lst)"
   ]
  },
  {
   "cell_type": "code",
   "execution_count": 4,
   "metadata": {},
   "outputs": [
    {
     "name": "stdout",
     "output_type": "stream",
     "text": [
      "3.0.5\n",
      "3.0.0\n"
     ]
    }
   ],
   "source": [
    "import spacy\n",
    "import en_core_web_sm as en\n",
    "print(spacy.__version__)\n",
    "print(en.__version__)"
   ]
  },
  {
   "cell_type": "code",
   "execution_count": null,
   "metadata": {},
   "outputs": [],
   "source": [
    "#from spacy.language import Language\n",
    "#@Language.component(\"info_component\")\n",
    "#def my_component(doc):\n",
    "#    print(f\"After tokenization, this doc has {len(doc)} tokens.\")\n",
    "#    print(\"The part-of-speech tags are:\", [token.pos_ for token in doc])\n",
    "#    if len(doc) < 10:\n",
    "#        print(\"This is a pretty short document.\")\n",
    "#    return doc"
   ]
  },
  {
   "cell_type": "code",
   "execution_count": null,
   "metadata": {},
   "outputs": [],
   "source": [
    "#source_nlp = spacy.load(\"en_core_web_sm\")\n",
    "#print(source_nlp.pipe_names)\n",
    "##mer = source_nlp.get_pipe(\"ner\")\n",
    "##print(mer)\n",
    "#nlp = spacy.blank(\"en\")\n",
    "#nlp.add_pipe(\"ner\",source=source_nlp)\n",
    "#print(nlp.pipe_names)"
   ]
  },
  {
   "cell_type": "code",
   "execution_count": null,
   "metadata": {},
   "outputs": [],
   "source": [
    "#Add new pipe - \"print_info\" into nlp object\n",
    "#nlp.add_pipe(\"info_component\", name=\"print_info\", first=True)\n",
    "#print(nlp.pipe_names)  # ['tagger', 'parser', 'ner', 'print_info']\n",
    "#doc = nlp(\"This is a sentence.\")"
   ]
  },
  {
   "cell_type": "code",
   "execution_count": 5,
   "metadata": {},
   "outputs": [
    {
     "name": "stdout",
     "output_type": "stream",
     "text": [
      "Australia 0 9 GPE\n"
     ]
    }
   ],
   "source": [
    "nlp = spacy.load(\"en_core_web_sm\")\n",
    "doc = nlp(\"Australia\")\n",
    "for ent in doc.ents:\n",
    "    print(ent.text,ent.start_char,ent.end_char,ent.label_)"
   ]
  },
  {
   "cell_type": "code",
   "execution_count": 6,
   "metadata": {},
   "outputs": [
    {
     "name": "stdout",
     "output_type": "stream",
     "text": [
      "<spacy.pipeline.ner.EntityRecognizer object at 0x0000026DAF25EB20>\n"
     ]
    }
   ],
   "source": [
    "nlp.pipe_names\n",
    "ner = nlp.get_pipe(\"ner\")\n",
    "print(ner)"
   ]
  },
  {
   "cell_type": "code",
   "execution_count": 7,
   "metadata": {},
   "outputs": [],
   "source": [
    "for _, annotations in file_lst:\n",
    "    for ent in annotations.get(\"entities\"):\n",
    "        #print(ent[2])\n",
    "        ner.add_label(ent[2])"
   ]
  },
  {
   "cell_type": "code",
   "execution_count": 8,
   "metadata": {},
   "outputs": [
    {
     "name": "stdout",
     "output_type": "stream",
     "text": [
      "['tok2vec', 'tagger', 'parser', 'attribute_ruler', 'lemmatizer']\n"
     ]
    }
   ],
   "source": [
    "disable_pipes = [pipe for pipe in nlp.pipe_names if pipe != \"ner\"]\n",
    "print(disable_pipes)"
   ]
  },
  {
   "cell_type": "code",
   "execution_count": 15,
   "metadata": {
    "scrolled": true
   },
   "outputs": [
    {
     "name": "stdout",
     "output_type": "stream",
     "text": [
      "Loss in iter 0 is {'ner': 1.9007353300574082e-06}\n",
      "Loss in iter 1 is {'ner': 8.412306400839159e-10}\n",
      "Loss in iter 2 is {'ner': 1.3888409166285397e-09}\n",
      "Loss in iter 3 is {'ner': 2.8042107557659804e-07}\n",
      "Loss in iter 4 is {'ner': 1.074512990049028e-08}\n",
      "Loss in iter 5 is {'ner': 2.888840762146031e-07}\n",
      "Loss in iter 6 is {'ner': 4.547451041261041e-09}\n",
      "Loss in iter 7 is {'ner': 4.9620355048697804e-08}\n",
      "Loss in iter 8 is {'ner': 1.544050916507232e-09}\n",
      "Loss in iter 9 is {'ner': 1.3013193861910948e-08}\n",
      "Loss in iter 10 is {'ner': 5.56209181982719e-10}\n",
      "Loss in iter 11 is {'ner': 1.3815435840495057e-09}\n",
      "Loss in iter 12 is {'ner': 8.541957820985273e-10}\n",
      "Loss in iter 13 is {'ner': 7.540852419833791e-10}\n",
      "Loss in iter 14 is {'ner': 2.19224839581073e-09}\n",
      "Loss in iter 15 is {'ner': 6.246685173199007e-09}\n",
      "Loss in iter 16 is {'ner': 1.0142467760558312e-08}\n",
      "Loss in iter 17 is {'ner': 1.0032383725475044e-10}\n",
      "Loss in iter 18 is {'ner': 4.726199884318611e-10}\n",
      "Loss in iter 19 is {'ner': 7.31372653946788e-11}\n",
      "Loss in iter 20 is {'ner': 5.202449151530234e-09}\n",
      "Loss in iter 21 is {'ner': 7.811149933357495e-11}\n",
      "Loss in iter 22 is {'ner': 4.033524652492748e-09}\n",
      "Loss in iter 23 is {'ner': 1.187772313721785e-09}\n",
      "Loss in iter 24 is {'ner': 1.134620797414098e-09}\n",
      "Loss in iter 25 is {'ner': 1.1690055419111527e-10}\n",
      "Loss in iter 26 is {'ner': 6.621607355011086e-11}\n",
      "Loss in iter 27 is {'ner': 3.166259963674649e-09}\n",
      "Loss in iter 28 is {'ner': 2.2739495439441397e-10}\n",
      "Loss in iter 29 is {'ner': 5.619401599612564e-11}\n",
      "Loss in iter 30 is {'ner': 2.4548099373023778e-09}\n",
      "Loss in iter 31 is {'ner': 5.0845717729604e-10}\n",
      "Loss in iter 32 is {'ner': 3.688687747680178e-11}\n",
      "Loss in iter 33 is {'ner': 4.109243644691163e-08}\n",
      "Loss in iter 34 is {'ner': 6.016204972380786e-10}\n",
      "Loss in iter 35 is {'ner': 2.4812955619893965e-10}\n",
      "Loss in iter 36 is {'ner': 4.796920028717493e-09}\n",
      "Loss in iter 37 is {'ner': 8.053040185711831e-08}\n",
      "Loss in iter 38 is {'ner': 2.681694425043125e-10}\n",
      "Loss in iter 39 is {'ner': 2.6611844080551026e-11}\n",
      "Loss in iter 40 is {'ner': 2.0557346358260403e-11}\n",
      "Loss in iter 41 is {'ner': 2.2181014350536078e-08}\n",
      "Loss in iter 42 is {'ner': 9.918603596004585e-11}\n",
      "Loss in iter 43 is {'ner': 3.6096929622931205e-10}\n",
      "Loss in iter 44 is {'ner': 5.664822516601185e-11}\n",
      "Loss in iter 45 is {'ner': 1.6404405129778523e-10}\n",
      "Loss in iter 46 is {'ner': 8.467193208252298e-10}\n",
      "Loss in iter 47 is {'ner': 2.855522365424383e-10}\n",
      "Loss in iter 48 is {'ner': 1.6850344982492144e-09}\n",
      "Loss in iter 49 is {'ner': 4.4006049092619684e-11}\n"
     ]
    }
   ],
   "source": [
    "import warnings\n",
    "warnings.filterwarnings(\"ignore\")\n",
    "import random\n",
    "from spacy.util import minibatch, compounding\n",
    "from spacy.training import Example\n",
    "\n",
    "with nlp.disable_pipes(*disable_pipes):\n",
    "    \n",
    "    optimizer = nlp.resume_training()\n",
    "    \n",
    "    for iteration in range(50):\n",
    "        \n",
    "        random.shuffle(file_lst)\n",
    "        losses={}\n",
    "        \n",
    "        for batch in minibatch(file_lst, size=5):\n",
    "            for text,annotation in batch:\n",
    "                doc = nlp.make_doc(text)\n",
    "                #print(\"text\",text)\n",
    "                #print(\"annot\",annotation)\n",
    "                #print(\"doc\",doc)\n",
    "                example = Example.from_dict(doc,annotation)\n",
    "                #print(example)\n",
    "                ner.update([example],losses=losses,drop=0.3,sgd=optimizer)\n",
    "        print(f'Loss in iter {iteration} is {losses}')"
   ]
  },
  {
   "cell_type": "code",
   "execution_count": 21,
   "metadata": {},
   "outputs": [
    {
     "name": "stdout",
     "output_type": "stream",
     "text": [
      "Entities []\n",
      "Entities []\n",
      "Entities []\n",
      "Entities []\n",
      "Entities []\n",
      "Entities []\n",
      "Entities []\n",
      "Entities []\n",
      "Entities []\n",
      "Entities []\n",
      "Entities []\n",
      "Entities []\n",
      "Entities []\n",
      "Entities []\n",
      "Entities []\n",
      "Entities []\n",
      "Entities []\n",
      "Entities []\n",
      "Entities []\n",
      "Entities []\n",
      "Entities []\n",
      "Entities []\n",
      "Entities []\n",
      "Entities []\n",
      "Entities []\n",
      "Entities []\n",
      "Entities []\n",
      "Entities []\n",
      "Entities []\n",
      "Entities []\n",
      "Entities []\n",
      "Entities []\n",
      "Entities []\n",
      "Entities []\n",
      "Entities []\n",
      "Entities []\n",
      "Entities []\n",
      "Entities []\n",
      "Entities []\n",
      "Entities []\n",
      "Entities []\n",
      "Entities []\n",
      "Entities []\n",
      "Entities []\n",
      "Entities []\n",
      "Entities []\n",
      "Entities []\n",
      "Entities []\n",
      "Entities []\n",
      "Entities []\n",
      "Entities []\n",
      "Entities []\n",
      "Entities []\n",
      "Entities []\n",
      "Entities []\n",
      "Entities []\n",
      "Entities []\n",
      "Entities []\n",
      "Entities []\n",
      "Entities []\n",
      "Entities []\n"
     ]
    }
   ],
   "source": [
    "for text, _ in file_lst:\n",
    "    #print(text)\n",
    "    doc=nlp(text)\n",
    "    print(\"Entities\",[(ent.text,ent.label_) for ent in doc.ents])"
   ]
  },
  {
   "cell_type": "code",
   "execution_count": 19,
   "metadata": {},
   "outputs": [
    {
     "data": {
      "text/html": [
       "<span class=\"tex2jax_ignore\"><div class=\"entities\" style=\"line-height: 2.5; direction: ltr\">the IP which is causing issue in 192.167.23.23</div></span>"
      ],
      "text/plain": [
       "<IPython.core.display.HTML object>"
      ]
     },
     "metadata": {},
     "output_type": "display_data"
    }
   ],
   "source": [
    "from spacy import displacy\n",
    "doc = nlp(\"the IP which is causing issue in 192.167.23.23\")\n",
    "for ent in doc.ents:\n",
    "    print(ent)\n",
    "    print(ent.text, ent.start_char, ent.end_char, ent.label_)\n",
    "displacy.render(nlp(doc.text),style='ent',jupyter=True)"
   ]
  },
  {
   "cell_type": "code",
   "execution_count": null,
   "metadata": {},
   "outputs": [],
   "source": []
  }
 ],
 "metadata": {
  "kernelspec": {
   "display_name": "Python 3",
   "language": "python",
   "name": "python3"
  },
  "language_info": {
   "codemirror_mode": {
    "name": "ipython",
    "version": 3
   },
   "file_extension": ".py",
   "mimetype": "text/x-python",
   "name": "python",
   "nbconvert_exporter": "python",
   "pygments_lexer": "ipython3",
   "version": "3.8.5"
  }
 },
 "nbformat": 4,
 "nbformat_minor": 4
}
